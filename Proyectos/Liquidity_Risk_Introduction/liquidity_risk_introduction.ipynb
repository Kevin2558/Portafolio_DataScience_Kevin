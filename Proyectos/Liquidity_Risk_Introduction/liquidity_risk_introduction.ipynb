{
  "nbformat": 4,
  "nbformat_minor": 0,
  "metadata": {
    "colab": {
      "provenance": []
    },
    "kernelspec": {
      "name": "python3",
      "display_name": "Python 3"
    },
    "language_info": {
      "name": "python"
    }
  },
  "cells": [
    {
      "cell_type": "markdown",
      "source": [
        "# **Herramienta de Monitoreo de Liquidez Bancaria**\n",
        "\n",
        "Este proyecto se realiza con el objetivo de crear esta herramienta pero intrínsicamente se realiza como introducción al área de riesgo de liquidez, para poner en prática sus conceptos y generar una sólida base en el tema.\n",
        "\n",
        "Este notebook se separa de la siguiente manera:\n",
        "\n",
        "1. Definición de los HQLA\n",
        "2. Cálculo de LCR\n",
        "3. GAP de Liquidez por tramos\n",
        "4. Cálculo de NSFR\n",
        "5. Escenarios de Estrés y CFP"
      ],
      "metadata": {
        "id": "QBSNxw3wFCXA"
      }
    },
    {
      "cell_type": "markdown",
      "source": [
        "# **Librerías**"
      ],
      "metadata": {
        "id": "KNJmaMHdHYMZ"
      }
    },
    {
      "cell_type": "markdown",
      "source": [
        "Las librerías a utilizar son las siguientes:"
      ],
      "metadata": {
        "id": "_QbNDztJHb59"
      }
    },
    {
      "cell_type": "code",
      "source": [
        "import pandas as pd\n",
        "import matplotlib.pyplot as plt\n",
        "import seaborn as sns"
      ],
      "metadata": {
        "id": "om14YFpQHeda"
      },
      "execution_count": 1,
      "outputs": []
    },
    {
      "cell_type": "markdown",
      "source": [
        "# **Definición de los HQLA**"
      ],
      "metadata": {
        "id": "Z6I_UQrgGeoL"
      }
    },
    {
      "cell_type": "markdown",
      "source": [
        "Partamos definiendo los HQLA y construyendo HQLA's artificiales para utilizarlos de manera conceptual.\n",
        "\n",
        "Según **Basilea III**, un `Activo Líquido de Alta Calidad (HQLA)` es aquel que puede ser vendido de forma inmediata en mercados financieros profundos y líquidos, incluso en condiciones de estrés, con poco o ningún descuento en su valor.\n",
        "\n",
        "Los activos líquidos se clasifican, segun Basilea III, en niveles. Veamos cuales son estos niveles:\n",
        "\n",
        "| Nivel     | Activos incluidos      | Requisitos      |\n",
        "| :--------------: | -------------- | -------------- |\n",
        "| 1 | Efectivo, reservas en bancos centrales, bonos soberanos de alta calidad | Sin límite, no se descuentan |\n",
        "| 2A | Bonos de empresas con alta calificación | Se descuentan un 15% y solo se pueden usar hasta 40% del HQLA |\n",
        "| 2B | Acciones de alta calidad, bonos de menor calidad | Descuento mayor (25 - 50%) con límites estrictos |\n",
        "\n",
        "Como podemos observar, la normativa impone límites máximos para incluir activos en nivel 2. Por un lado, la suma de los HQLA de los niveles 2A y 2B no puede representar más del 40% total de los HQLA y por otro lado, el nivel 2B no puede representar más del 15% total de los HQLA. Esto se hace para evitar que el banco dependa en exceso de activos menos líquidos.\n",
        "\n",
        "Otro concepto clave es el `haircut`. El haircut es un descuento aplicado al valor de un activo para reflejar que no todo su valor de mercado puede ser usado inmediatamente en situaciones de estrés o venta forzada. En el siguiente paso, cuando veamos LCR, veremos que este concepto es importante para el cálculo de esta métrica.\n",
        "\n",
        "El siguiente dataset contiene el nombre, el nivel, el monto y el haircut del HQLA."
      ],
      "metadata": {
        "id": "y7rz_DYZG2Bf"
      }
    },
    {
      "cell_type": "code",
      "source": [
        "activos_hqla = [\n",
        "    {\"nombre\": \"Efectivo en Banco Central\", \"nivel\": \"1\", \"monto\": 30000000, \"haircut\": 0.00},\n",
        "    {\"nombre\": \"Bonos del Estado CLP\", \"nivel\": \"1\", \"monto\": 20000000, \"haircut\": 0.00},\n",
        "    {\"nombre\": \"Bonos Corporativos AAA\", \"nivel\": \"2A\", \"monto\": 10000000, \"haircut\": 0.15},\n",
        "    {\"nombre\": \"Acciones IPSA\", \"nivel\": \"2B\", \"monto\": 5000000, \"haircut\": 0.50},\n",
        "]\n",
        "\n",
        "hqla_df = pd.DataFrame(activos_hqla)"
      ],
      "metadata": {
        "id": "qmp1mhe1KviI"
      },
      "execution_count": 2,
      "outputs": []
    },
    {
      "cell_type": "markdown",
      "source": [
        "Comencemos con las métricas que utilizaremos para el análisis del riesgo liquidez."
      ],
      "metadata": {
        "id": "HS8k9hpdXksQ"
      }
    },
    {
      "cell_type": "markdown",
      "source": [
        "# **LCR (Liquid Coverage Ratio)**"
      ],
      "metadata": {
        "id": "pFrMxlclK2NF"
      }
    },
    {
      "cell_type": "markdown",
      "source": [
        "EL `LCR` es una métrica diseñada por **Basilea III** para garantizar que un banco tenga suficiente liquidez para sobrevivir 30 días de estrés severo.\n",
        "\n",
        "$$\n",
        "LCR = \\frac{Stock\\ de\\ HQLA}{Salidas\\ netas\\ de\\ efectivo\\ esperadas\\ en\\ 30\\ dias} * 100\n",
        "$$\n",
        "\n",
        "El `stock de HQLA` es el monto neto total de HQLA, después de aplicar los haircuts y límites de elegibilidad definidos por Basilea III. Es decir, el stock de HQLA es la suma ponderada de todos los HQLA por sus respectivos haircuts.\n",
        "\n",
        "Las `salidas netas` representan el monto que el banco espera tener que pagar en los próximos 30 días, descontando ciertas entradas permitidas. Se calcula restando a las salidas brutas el mínimo entre el 75% de las salidas brutas y las salidas brutas. Notemos que si las entradas brutas superan el 75% porciento de las salidas brutas entonces para cualquier valor de las entradas brutas el denominador del LCR sería el 25% de las salidas brutas.\n",
        "\n",
        "Según la comisión **CMF** (Chile) el LCR debe ser al menos 100% (al igual que en Basilea III), es decir, los HQLA deben ser suficientes para cubrir las salidas netas previstas en 30 días y así poder enfrentar una crisis de liquidez a corto plazo.\n",
        "\n",
        "Pasemos a ver el cálculo del LCR en nuestro dataset artifical:"
      ],
      "metadata": {
        "id": "pS0SwBt2LIct"
      }
    },
    {
      "cell_type": "code",
      "source": [
        "# Stock de HQLA\n",
        "\n",
        "# Partamos agregando al dataset una columna de los montos ponderados por sus\n",
        "# respectivos haircuts a todos los HQLA\n",
        "\n",
        "hqla_df[\"monto_neto\"] = hqla_df[\"monto\"] * (1 - hqla_df[\"haircut\"])\n",
        "stock_hqla = hqla_df[\"monto_neto\"].sum()\n",
        "\n",
        "# Salidas netas\n",
        "\n",
        "# Supondremos salidas y entradas esperadas, para simplificar el proceso\n",
        "\n",
        "salidas_esperadas = 50000000\n",
        "entradas_esperadas = 15000000\n",
        "limite_entradas = salidas_esperadas * 0.75\n",
        "salidas_netas = salidas_esperadas - min(entradas_esperadas, limite_entradas)\n",
        "\n",
        "# LCR\n",
        "\n",
        "lcr = stock_hqla / salidas_netas * 100\n",
        "\n",
        "print(\"LCR: {:.2f}% {}\".format(lcr, \"✅ Cumple (CMF)\" if lcr >= 100 else \"❌ Incumple (CMF)\"))"
      ],
      "metadata": {
        "colab": {
          "base_uri": "https://localhost:8080/"
        },
        "id": "ygSNcW-kUwpZ",
        "outputId": "7b25c740-66d0-4898-afef-4c65e60feba5"
      },
      "execution_count": 12,
      "outputs": [
        {
          "output_type": "stream",
          "name": "stdout",
          "text": [
            "LCR: 174.29% ✅ Cumple (CMF)\n"
          ]
        }
      ]
    },
    {
      "cell_type": "markdown",
      "source": [
        "Añadiremos una manera personalizada para agregar las entradas y salidas esperadas, de forma más didáctica. Lo haremos a tráves de una validación para que solo se acepten valores positivos."
      ],
      "metadata": {
        "id": "rRPMZGNyWTav"
      }
    },
    {
      "cell_type": "code",
      "source": [
        "hqla_df[\"monto_neto\"] = hqla_df[\"monto\"] * (1 - hqla_df[\"haircut\"])\n",
        "stock_hqla = hqla_df[\"monto_neto\"].sum()\n",
        "\n",
        "def leer_flotante_positivo(mensaje):\n",
        "    while True:\n",
        "        try:\n",
        "            valor = float(input(mensaje))\n",
        "            if valor < 0:\n",
        "                print(\"❌ El valor debe ser mayor o igual a 0.\")\n",
        "            else:\n",
        "                return valor\n",
        "        except ValueError:\n",
        "            print(\"❌ Entrada inválida. Ingresa un número válido.\")\n",
        "\n",
        "salidas_esperadas = leer_flotante_positivo(\"Ingrese el monto total de SALIDAS esperadas: \")\n",
        "entradas_esperadas = leer_flotante_positivo(\"Ingrese el monto total de ENTRADAS esperadas: \")\n",
        "limite_entradas = salidas_esperadas * 0.75\n",
        "salidas_netas = salidas_esperadas - min(entradas_esperadas, limite_entradas)\n",
        "\n",
        "lcr = stock_hqla / salidas_netas * 100\n",
        "\n",
        "print(\"LCR: {:.2f}% {}\".format(lcr, \"✅ Cumple (CMF)\" if lcr >= 100 else \"❌ Incumple (CMF)\"))"
      ],
      "metadata": {
        "colab": {
          "base_uri": "https://localhost:8080/"
        },
        "id": "KW8PFgNxWj0p",
        "outputId": "8b4e6872-f436-4e7b-bedc-39cfc99f88b2"
      },
      "execution_count": 11,
      "outputs": [
        {
          "output_type": "stream",
          "name": "stdout",
          "text": [
            "Ingrese el monto total de SALIDAS esperadas: 50000000\n",
            "Ingrese el monto total de ENTRADAS esperadas: 15000000\n",
            "LCR: 174.29% ✅ Cumple (CMF)\n"
          ]
        }
      ]
    },
    {
      "cell_type": "markdown",
      "source": [
        "# **Flujos de caja**"
      ],
      "metadata": {
        "id": "auulk5-bZaGM"
      }
    },
    {
      "cell_type": "markdown",
      "source": [
        "Crearemos una tabla de flujos de caja proyectados por tramos de vencimiento para realizar el cálculo del GAP."
      ],
      "metadata": {
        "id": "YVy2mLefZoD-"
      }
    },
    {
      "cell_type": "code",
      "source": [
        "tramos = [\"0-7d\", \"8-30d\", \"31-90d\", \"91-180d\", \"181-365d\"]\n",
        "entradas = [8000000, 7000000, 10000000, 5000000, 3000000]\n",
        "salidas = [10000000, 15000000, 8000000, 4000000, 2000000]\n",
        "\n",
        "gap_df = pd.DataFrame({\n",
        "    \"tramo\": tramos,\n",
        "    \"entradas\": entradas,\n",
        "    \"salidas\": salidas\n",
        "})"
      ],
      "metadata": {
        "id": "LX3hNI19ZZT8"
      },
      "execution_count": 13,
      "outputs": []
    },
    {
      "cell_type": "markdown",
      "source": [
        "# **GAP de liquidez**"
      ],
      "metadata": {
        "id": "fTUxSCAtXahv"
      }
    },
    {
      "cell_type": "markdown",
      "source": [
        "El `GAP de liquidez` es una herramienta **interna** que compara las entradas y salidas de efectivo esperadas en distintos horizontes de tiempo, tales como 1, 7, 30 días, etc. Su objetivo es detectar si el banco tendrá deficit o superávit de efectivo en algún plazo y como se descalzan los flujos de caja\n",
        "\n",
        "Para cada tramo de tiempo **t** tenemos:\n",
        "\n",
        "$$\n",
        "  GAP_t = Entradas\\ de\\ efectivo_t - Salidas\\ de\\ efectivo_t\n",
        "$$\n",
        "$$\n",
        "  GAP\\ Acumulado_t = \\sum_{i=1}^tGAP_t\n",
        "$$\n",
        "\n",
        "Pasemos a ver el cálculo del GAP de liquidez:"
      ],
      "metadata": {
        "id": "T-9v-F16Xdz-"
      }
    },
    {
      "cell_type": "code",
      "source": [
        "# Le agregaremos al dataset dos columnas más para mostrar el GAP neto y el\n",
        "# acumulado por tramo\n",
        "\n",
        "# GAP neto por tramo\n",
        "\n",
        "gap_df[\"gap_neto\"] = gap_df[\"entradas\"] - gap_df[\"salidas\"]\n",
        "\n",
        "# GAP acumulado por tramo\n",
        "\n",
        "gap_df[\"gap_acumulado\"] = gap_df[\"gap_neto\"].cumsum()\n",
        "\n",
        "# Mostremos el dataset para observar los GAP\n",
        "\n",
        "gap_df"
      ],
      "metadata": {
        "colab": {
          "base_uri": "https://localhost:8080/",
          "height": 206
        },
        "id": "lHmpKUMnawvR",
        "outputId": "808effba-897c-4826-9101-efa0ad1ce032"
      },
      "execution_count": 15,
      "outputs": [
        {
          "output_type": "execute_result",
          "data": {
            "text/plain": [
              "      tramo  entradas   salidas  gap_neto  gap_acumulado\n",
              "0      0-7d   8000000  10000000  -2000000       -2000000\n",
              "1     8-30d   7000000  15000000  -8000000      -10000000\n",
              "2    31-90d  10000000   8000000   2000000       -8000000\n",
              "3   91-180d   5000000   4000000   1000000       -7000000\n",
              "4  181-365d   3000000   2000000   1000000       -6000000"
            ],
            "text/html": [
              "\n",
              "  <div id=\"df-c78f4a96-be32-437c-b536-79ca494d6694\" class=\"colab-df-container\">\n",
              "    <div>\n",
              "<style scoped>\n",
              "    .dataframe tbody tr th:only-of-type {\n",
              "        vertical-align: middle;\n",
              "    }\n",
              "\n",
              "    .dataframe tbody tr th {\n",
              "        vertical-align: top;\n",
              "    }\n",
              "\n",
              "    .dataframe thead th {\n",
              "        text-align: right;\n",
              "    }\n",
              "</style>\n",
              "<table border=\"1\" class=\"dataframe\">\n",
              "  <thead>\n",
              "    <tr style=\"text-align: right;\">\n",
              "      <th></th>\n",
              "      <th>tramo</th>\n",
              "      <th>entradas</th>\n",
              "      <th>salidas</th>\n",
              "      <th>gap_neto</th>\n",
              "      <th>gap_acumulado</th>\n",
              "    </tr>\n",
              "  </thead>\n",
              "  <tbody>\n",
              "    <tr>\n",
              "      <th>0</th>\n",
              "      <td>0-7d</td>\n",
              "      <td>8000000</td>\n",
              "      <td>10000000</td>\n",
              "      <td>-2000000</td>\n",
              "      <td>-2000000</td>\n",
              "    </tr>\n",
              "    <tr>\n",
              "      <th>1</th>\n",
              "      <td>8-30d</td>\n",
              "      <td>7000000</td>\n",
              "      <td>15000000</td>\n",
              "      <td>-8000000</td>\n",
              "      <td>-10000000</td>\n",
              "    </tr>\n",
              "    <tr>\n",
              "      <th>2</th>\n",
              "      <td>31-90d</td>\n",
              "      <td>10000000</td>\n",
              "      <td>8000000</td>\n",
              "      <td>2000000</td>\n",
              "      <td>-8000000</td>\n",
              "    </tr>\n",
              "    <tr>\n",
              "      <th>3</th>\n",
              "      <td>91-180d</td>\n",
              "      <td>5000000</td>\n",
              "      <td>4000000</td>\n",
              "      <td>1000000</td>\n",
              "      <td>-7000000</td>\n",
              "    </tr>\n",
              "    <tr>\n",
              "      <th>4</th>\n",
              "      <td>181-365d</td>\n",
              "      <td>3000000</td>\n",
              "      <td>2000000</td>\n",
              "      <td>1000000</td>\n",
              "      <td>-6000000</td>\n",
              "    </tr>\n",
              "  </tbody>\n",
              "</table>\n",
              "</div>\n",
              "    <div class=\"colab-df-buttons\">\n",
              "\n",
              "  <div class=\"colab-df-container\">\n",
              "    <button class=\"colab-df-convert\" onclick=\"convertToInteractive('df-c78f4a96-be32-437c-b536-79ca494d6694')\"\n",
              "            title=\"Convert this dataframe to an interactive table.\"\n",
              "            style=\"display:none;\">\n",
              "\n",
              "  <svg xmlns=\"http://www.w3.org/2000/svg\" height=\"24px\" viewBox=\"0 -960 960 960\">\n",
              "    <path d=\"M120-120v-720h720v720H120Zm60-500h600v-160H180v160Zm220 220h160v-160H400v160Zm0 220h160v-160H400v160ZM180-400h160v-160H180v160Zm440 0h160v-160H620v160ZM180-180h160v-160H180v160Zm440 0h160v-160H620v160Z\"/>\n",
              "  </svg>\n",
              "    </button>\n",
              "\n",
              "  <style>\n",
              "    .colab-df-container {\n",
              "      display:flex;\n",
              "      gap: 12px;\n",
              "    }\n",
              "\n",
              "    .colab-df-convert {\n",
              "      background-color: #E8F0FE;\n",
              "      border: none;\n",
              "      border-radius: 50%;\n",
              "      cursor: pointer;\n",
              "      display: none;\n",
              "      fill: #1967D2;\n",
              "      height: 32px;\n",
              "      padding: 0 0 0 0;\n",
              "      width: 32px;\n",
              "    }\n",
              "\n",
              "    .colab-df-convert:hover {\n",
              "      background-color: #E2EBFA;\n",
              "      box-shadow: 0px 1px 2px rgba(60, 64, 67, 0.3), 0px 1px 3px 1px rgba(60, 64, 67, 0.15);\n",
              "      fill: #174EA6;\n",
              "    }\n",
              "\n",
              "    .colab-df-buttons div {\n",
              "      margin-bottom: 4px;\n",
              "    }\n",
              "\n",
              "    [theme=dark] .colab-df-convert {\n",
              "      background-color: #3B4455;\n",
              "      fill: #D2E3FC;\n",
              "    }\n",
              "\n",
              "    [theme=dark] .colab-df-convert:hover {\n",
              "      background-color: #434B5C;\n",
              "      box-shadow: 0px 1px 3px 1px rgba(0, 0, 0, 0.15);\n",
              "      filter: drop-shadow(0px 1px 2px rgba(0, 0, 0, 0.3));\n",
              "      fill: #FFFFFF;\n",
              "    }\n",
              "  </style>\n",
              "\n",
              "    <script>\n",
              "      const buttonEl =\n",
              "        document.querySelector('#df-c78f4a96-be32-437c-b536-79ca494d6694 button.colab-df-convert');\n",
              "      buttonEl.style.display =\n",
              "        google.colab.kernel.accessAllowed ? 'block' : 'none';\n",
              "\n",
              "      async function convertToInteractive(key) {\n",
              "        const element = document.querySelector('#df-c78f4a96-be32-437c-b536-79ca494d6694');\n",
              "        const dataTable =\n",
              "          await google.colab.kernel.invokeFunction('convertToInteractive',\n",
              "                                                    [key], {});\n",
              "        if (!dataTable) return;\n",
              "\n",
              "        const docLinkHtml = 'Like what you see? Visit the ' +\n",
              "          '<a target=\"_blank\" href=https://colab.research.google.com/notebooks/data_table.ipynb>data table notebook</a>'\n",
              "          + ' to learn more about interactive tables.';\n",
              "        element.innerHTML = '';\n",
              "        dataTable['output_type'] = 'display_data';\n",
              "        await google.colab.output.renderOutput(dataTable, element);\n",
              "        const docLink = document.createElement('div');\n",
              "        docLink.innerHTML = docLinkHtml;\n",
              "        element.appendChild(docLink);\n",
              "      }\n",
              "    </script>\n",
              "  </div>\n",
              "\n",
              "\n",
              "    <div id=\"df-86e5dad8-e27f-42f7-a05d-de445550ec3d\">\n",
              "      <button class=\"colab-df-quickchart\" onclick=\"quickchart('df-86e5dad8-e27f-42f7-a05d-de445550ec3d')\"\n",
              "                title=\"Suggest charts\"\n",
              "                style=\"display:none;\">\n",
              "\n",
              "<svg xmlns=\"http://www.w3.org/2000/svg\" height=\"24px\"viewBox=\"0 0 24 24\"\n",
              "     width=\"24px\">\n",
              "    <g>\n",
              "        <path d=\"M19 3H5c-1.1 0-2 .9-2 2v14c0 1.1.9 2 2 2h14c1.1 0 2-.9 2-2V5c0-1.1-.9-2-2-2zM9 17H7v-7h2v7zm4 0h-2V7h2v10zm4 0h-2v-4h2v4z\"/>\n",
              "    </g>\n",
              "</svg>\n",
              "      </button>\n",
              "\n",
              "<style>\n",
              "  .colab-df-quickchart {\n",
              "      --bg-color: #E8F0FE;\n",
              "      --fill-color: #1967D2;\n",
              "      --hover-bg-color: #E2EBFA;\n",
              "      --hover-fill-color: #174EA6;\n",
              "      --disabled-fill-color: #AAA;\n",
              "      --disabled-bg-color: #DDD;\n",
              "  }\n",
              "\n",
              "  [theme=dark] .colab-df-quickchart {\n",
              "      --bg-color: #3B4455;\n",
              "      --fill-color: #D2E3FC;\n",
              "      --hover-bg-color: #434B5C;\n",
              "      --hover-fill-color: #FFFFFF;\n",
              "      --disabled-bg-color: #3B4455;\n",
              "      --disabled-fill-color: #666;\n",
              "  }\n",
              "\n",
              "  .colab-df-quickchart {\n",
              "    background-color: var(--bg-color);\n",
              "    border: none;\n",
              "    border-radius: 50%;\n",
              "    cursor: pointer;\n",
              "    display: none;\n",
              "    fill: var(--fill-color);\n",
              "    height: 32px;\n",
              "    padding: 0;\n",
              "    width: 32px;\n",
              "  }\n",
              "\n",
              "  .colab-df-quickchart:hover {\n",
              "    background-color: var(--hover-bg-color);\n",
              "    box-shadow: 0 1px 2px rgba(60, 64, 67, 0.3), 0 1px 3px 1px rgba(60, 64, 67, 0.15);\n",
              "    fill: var(--button-hover-fill-color);\n",
              "  }\n",
              "\n",
              "  .colab-df-quickchart-complete:disabled,\n",
              "  .colab-df-quickchart-complete:disabled:hover {\n",
              "    background-color: var(--disabled-bg-color);\n",
              "    fill: var(--disabled-fill-color);\n",
              "    box-shadow: none;\n",
              "  }\n",
              "\n",
              "  .colab-df-spinner {\n",
              "    border: 2px solid var(--fill-color);\n",
              "    border-color: transparent;\n",
              "    border-bottom-color: var(--fill-color);\n",
              "    animation:\n",
              "      spin 1s steps(1) infinite;\n",
              "  }\n",
              "\n",
              "  @keyframes spin {\n",
              "    0% {\n",
              "      border-color: transparent;\n",
              "      border-bottom-color: var(--fill-color);\n",
              "      border-left-color: var(--fill-color);\n",
              "    }\n",
              "    20% {\n",
              "      border-color: transparent;\n",
              "      border-left-color: var(--fill-color);\n",
              "      border-top-color: var(--fill-color);\n",
              "    }\n",
              "    30% {\n",
              "      border-color: transparent;\n",
              "      border-left-color: var(--fill-color);\n",
              "      border-top-color: var(--fill-color);\n",
              "      border-right-color: var(--fill-color);\n",
              "    }\n",
              "    40% {\n",
              "      border-color: transparent;\n",
              "      border-right-color: var(--fill-color);\n",
              "      border-top-color: var(--fill-color);\n",
              "    }\n",
              "    60% {\n",
              "      border-color: transparent;\n",
              "      border-right-color: var(--fill-color);\n",
              "    }\n",
              "    80% {\n",
              "      border-color: transparent;\n",
              "      border-right-color: var(--fill-color);\n",
              "      border-bottom-color: var(--fill-color);\n",
              "    }\n",
              "    90% {\n",
              "      border-color: transparent;\n",
              "      border-bottom-color: var(--fill-color);\n",
              "    }\n",
              "  }\n",
              "</style>\n",
              "\n",
              "      <script>\n",
              "        async function quickchart(key) {\n",
              "          const quickchartButtonEl =\n",
              "            document.querySelector('#' + key + ' button');\n",
              "          quickchartButtonEl.disabled = true;  // To prevent multiple clicks.\n",
              "          quickchartButtonEl.classList.add('colab-df-spinner');\n",
              "          try {\n",
              "            const charts = await google.colab.kernel.invokeFunction(\n",
              "                'suggestCharts', [key], {});\n",
              "          } catch (error) {\n",
              "            console.error('Error during call to suggestCharts:', error);\n",
              "          }\n",
              "          quickchartButtonEl.classList.remove('colab-df-spinner');\n",
              "          quickchartButtonEl.classList.add('colab-df-quickchart-complete');\n",
              "        }\n",
              "        (() => {\n",
              "          let quickchartButtonEl =\n",
              "            document.querySelector('#df-86e5dad8-e27f-42f7-a05d-de445550ec3d button');\n",
              "          quickchartButtonEl.style.display =\n",
              "            google.colab.kernel.accessAllowed ? 'block' : 'none';\n",
              "        })();\n",
              "      </script>\n",
              "    </div>\n",
              "\n",
              "  <div id=\"id_71cf7d0f-bcb8-4af7-b05f-42457f0b3017\">\n",
              "    <style>\n",
              "      .colab-df-generate {\n",
              "        background-color: #E8F0FE;\n",
              "        border: none;\n",
              "        border-radius: 50%;\n",
              "        cursor: pointer;\n",
              "        display: none;\n",
              "        fill: #1967D2;\n",
              "        height: 32px;\n",
              "        padding: 0 0 0 0;\n",
              "        width: 32px;\n",
              "      }\n",
              "\n",
              "      .colab-df-generate:hover {\n",
              "        background-color: #E2EBFA;\n",
              "        box-shadow: 0px 1px 2px rgba(60, 64, 67, 0.3), 0px 1px 3px 1px rgba(60, 64, 67, 0.15);\n",
              "        fill: #174EA6;\n",
              "      }\n",
              "\n",
              "      [theme=dark] .colab-df-generate {\n",
              "        background-color: #3B4455;\n",
              "        fill: #D2E3FC;\n",
              "      }\n",
              "\n",
              "      [theme=dark] .colab-df-generate:hover {\n",
              "        background-color: #434B5C;\n",
              "        box-shadow: 0px 1px 3px 1px rgba(0, 0, 0, 0.15);\n",
              "        filter: drop-shadow(0px 1px 2px rgba(0, 0, 0, 0.3));\n",
              "        fill: #FFFFFF;\n",
              "      }\n",
              "    </style>\n",
              "    <button class=\"colab-df-generate\" onclick=\"generateWithVariable('gap_df')\"\n",
              "            title=\"Generate code using this dataframe.\"\n",
              "            style=\"display:none;\">\n",
              "\n",
              "  <svg xmlns=\"http://www.w3.org/2000/svg\" height=\"24px\"viewBox=\"0 0 24 24\"\n",
              "       width=\"24px\">\n",
              "    <path d=\"M7,19H8.4L18.45,9,17,7.55,7,17.6ZM5,21V16.75L18.45,3.32a2,2,0,0,1,2.83,0l1.4,1.43a1.91,1.91,0,0,1,.58,1.4,1.91,1.91,0,0,1-.58,1.4L9.25,21ZM18.45,9,17,7.55Zm-12,3A5.31,5.31,0,0,0,4.9,8.1,5.31,5.31,0,0,0,1,6.5,5.31,5.31,0,0,0,4.9,4.9,5.31,5.31,0,0,0,6.5,1,5.31,5.31,0,0,0,8.1,4.9,5.31,5.31,0,0,0,12,6.5,5.46,5.46,0,0,0,6.5,12Z\"/>\n",
              "  </svg>\n",
              "    </button>\n",
              "    <script>\n",
              "      (() => {\n",
              "      const buttonEl =\n",
              "        document.querySelector('#id_71cf7d0f-bcb8-4af7-b05f-42457f0b3017 button.colab-df-generate');\n",
              "      buttonEl.style.display =\n",
              "        google.colab.kernel.accessAllowed ? 'block' : 'none';\n",
              "\n",
              "      buttonEl.onclick = () => {\n",
              "        google.colab.notebook.generateWithVariable('gap_df');\n",
              "      }\n",
              "      })();\n",
              "    </script>\n",
              "  </div>\n",
              "\n",
              "    </div>\n",
              "  </div>\n"
            ],
            "application/vnd.google.colaboratory.intrinsic+json": {
              "type": "dataframe",
              "variable_name": "gap_df",
              "summary": "{\n  \"name\": \"gap_df\",\n  \"rows\": 5,\n  \"fields\": [\n    {\n      \"column\": \"tramo\",\n      \"properties\": {\n        \"dtype\": \"string\",\n        \"num_unique_values\": 5,\n        \"samples\": [\n          \"8-30d\",\n          \"181-365d\",\n          \"31-90d\"\n        ],\n        \"semantic_type\": \"\",\n        \"description\": \"\"\n      }\n    },\n    {\n      \"column\": \"entradas\",\n      \"properties\": {\n        \"dtype\": \"number\",\n        \"std\": 2701851,\n        \"min\": 3000000,\n        \"max\": 10000000,\n        \"num_unique_values\": 5,\n        \"samples\": [\n          7000000,\n          3000000,\n          10000000\n        ],\n        \"semantic_type\": \"\",\n        \"description\": \"\"\n      }\n    },\n    {\n      \"column\": \"salidas\",\n      \"properties\": {\n        \"dtype\": \"number\",\n        \"std\": 5118593,\n        \"min\": 2000000,\n        \"max\": 15000000,\n        \"num_unique_values\": 5,\n        \"samples\": [\n          15000000,\n          2000000,\n          8000000\n        ],\n        \"semantic_type\": \"\",\n        \"description\": \"\"\n      }\n    },\n    {\n      \"column\": \"gap_neto\",\n      \"properties\": {\n        \"dtype\": \"number\",\n        \"std\": 4086563,\n        \"min\": -8000000,\n        \"max\": 2000000,\n        \"num_unique_values\": 4,\n        \"samples\": [\n          -8000000,\n          1000000,\n          -2000000\n        ],\n        \"semantic_type\": \"\",\n        \"description\": \"\"\n      }\n    },\n    {\n      \"column\": \"gap_acumulado\",\n      \"properties\": {\n        \"dtype\": \"number\",\n        \"std\": 2966479,\n        \"min\": -10000000,\n        \"max\": -2000000,\n        \"num_unique_values\": 5,\n        \"samples\": [\n          -10000000,\n          -6000000,\n          -8000000\n        ],\n        \"semantic_type\": \"\",\n        \"description\": \"\"\n      }\n    }\n  ]\n}"
            }
          },
          "metadata": {},
          "execution_count": 15
        }
      ]
    },
    {
      "cell_type": "markdown",
      "source": [
        "Notemos que tenemos diferentes valores para los GAP, veamos como se interpretan estos distintos valores:\n",
        "\n",
        "| GAP Neto | GAP Acumulado | Interpretación                                                                         | Riesgo    |\n",
        "| -------- | ------------- | -------------------------------------------------------------------------------------- | --------- |\n",
        "| **> 0**  | **> 0**       | Flujo positivo en el tramo y acumulado: la posición de liquidez mejora.                | ✅ Bajo    |\n",
        "| **> 0**  | **< 0**       | Flujo positivo en el tramo actual, pero aún se arrastra déficit previo.                | ⚠️ Medio  |\n",
        "| **> 0**  | **= 0**       | Flujo positivo que compensa déficit justo hasta el tramo actual.                       | ⚠️ Medio  |\n",
        "| **= 0**  | **> 0**       | Equilibrio entre entradas y salidas en el tramo, manteniendo superávit acumulado.      | ✅ Bajo    |\n",
        "| **= 0**  | **< 0**       | Equilibrio momentáneo, pero aún con déficit acumulado.                                 | ⚠️ Medio  |\n",
        "| **= 0**  | **= 0**       | Equilibrio exacto entre entradas y salidas históricas: posición neutral.               | ⚠️ Neutro |\n",
        "| **< 0**  | **> 0**       | Tramo con déficit, pero aún se mantiene superávit acumulado (se empieza a deteriorar). | ⚠️ Medio  |\n",
        "| **< 0**  | **< 0**       | Tramo y acumulado en déficit: hay deterioro sostenido de liquidez.                     | ❌ Alto    |\n",
        "| **< 0**  | **= 0**       | Déficit puntual que elimina todo el superávit anterior.                                | ❌ Crítico |\n"
      ],
      "metadata": {
        "id": "qtdEpL9ybo-s"
      }
    },
    {
      "cell_type": "markdown",
      "source": [
        "**Observación:** Como el GAP es una herramienta interna, las consideraciones del nivel de riesgo en cada tramo dependerá de los propios umbrales de riesgo establecidos por el banco. Estos umblares no son públicos por los que en este caso estamos tomando una suposición de ellos y únicamente se utiliza como ejemplo demostrativo."
      ],
      "metadata": {
        "id": "25-kGs-3dK_F"
      }
    },
    {
      "cell_type": "markdown",
      "source": [
        "Por lo tanto, en nuestro caso tenemos que:"
      ],
      "metadata": {
        "id": "Fuj0WysIfdxd"
      }
    },
    {
      "cell_type": "code",
      "source": [
        "# Construyamos una función que entregue las clasificaciones mostradas en la\n",
        "# tabla anterior\n",
        "def clasificar_riesgo(gap_neto, gap_acumulado):\n",
        "        if gap_neto > 0 and gap_acumulado > 0:\n",
        "            return \"✅ Bajo\"\n",
        "        elif gap_neto > 0 and gap_acumulado <= 0:\n",
        "            return \"⚠️ Medio\"\n",
        "        elif gap_neto == 0 and gap_acumulado >= 0:\n",
        "            return \"✅ Bajo\"\n",
        "        elif gap_neto == 0 and gap_acumulado < 0:\n",
        "            return \"⚠️ Medio\"\n",
        "        elif gap_neto < 0 and gap_acumulado > 0:\n",
        "            return \"⚠️ Medio\"\n",
        "        elif gap_neto < 0 and gap_acumulado == 0:\n",
        "            return \"❌ Crítico\"\n",
        "        elif gap_acumulado == 0:\n",
        "            return \"⚠️ Neutro\"\n",
        "        else:\n",
        "            return \"❌ Alto\"\n",
        "\n",
        "# A través de apply() agreguemos una columna que evalue el riesgo por tramo\n",
        "# (Bajo, Medio o Alto)\n",
        "\n",
        "gap_df[\"Riesgo\"] = gap_df.apply(lambda row: clasificar_riesgo(row[\"gap_neto\"], row[\"gap_acumulado\"]), axis=1)\n",
        "\n",
        "print('-------------------------------------')\n",
        "print('Tabla de análisis del GAP de liquidez')\n",
        "print('-------------------------------------')\n",
        "gap_df"
      ],
      "metadata": {
        "colab": {
          "base_uri": "https://localhost:8080/",
          "height": 258
        },
        "id": "3PP3zL4PeRB1",
        "outputId": "f4ff865e-d985-45c4-cec4-58de681abdc9"
      },
      "execution_count": 102,
      "outputs": [
        {
          "output_type": "stream",
          "name": "stdout",
          "text": [
            "-------------------------------------\n",
            "Tabla de análisis del GAP de liquidez\n",
            "-------------------------------------\n"
          ]
        },
        {
          "output_type": "execute_result",
          "data": {
            "text/plain": [
              "      tramo  entradas   salidas  gap_neto  gap_acumulado    Riesgo\n",
              "0      0-7d   8000000  10000000  -2000000       -2000000    ❌ Alto\n",
              "1     8-30d   7000000  15000000  -8000000      -10000000    ❌ Alto\n",
              "2    31-90d  10000000   8000000   2000000       -8000000  ⚠️ Medio\n",
              "3   91-180d   5000000   4000000   1000000       -7000000  ⚠️ Medio\n",
              "4  181-365d   3000000   2000000   1000000       -6000000  ⚠️ Medio"
            ],
            "text/html": [
              "\n",
              "  <div id=\"df-94f0d4d0-fbd5-4262-86d1-8f32317574e4\" class=\"colab-df-container\">\n",
              "    <div>\n",
              "<style scoped>\n",
              "    .dataframe tbody tr th:only-of-type {\n",
              "        vertical-align: middle;\n",
              "    }\n",
              "\n",
              "    .dataframe tbody tr th {\n",
              "        vertical-align: top;\n",
              "    }\n",
              "\n",
              "    .dataframe thead th {\n",
              "        text-align: right;\n",
              "    }\n",
              "</style>\n",
              "<table border=\"1\" class=\"dataframe\">\n",
              "  <thead>\n",
              "    <tr style=\"text-align: right;\">\n",
              "      <th></th>\n",
              "      <th>tramo</th>\n",
              "      <th>entradas</th>\n",
              "      <th>salidas</th>\n",
              "      <th>gap_neto</th>\n",
              "      <th>gap_acumulado</th>\n",
              "      <th>Riesgo</th>\n",
              "    </tr>\n",
              "  </thead>\n",
              "  <tbody>\n",
              "    <tr>\n",
              "      <th>0</th>\n",
              "      <td>0-7d</td>\n",
              "      <td>8000000</td>\n",
              "      <td>10000000</td>\n",
              "      <td>-2000000</td>\n",
              "      <td>-2000000</td>\n",
              "      <td>❌ Alto</td>\n",
              "    </tr>\n",
              "    <tr>\n",
              "      <th>1</th>\n",
              "      <td>8-30d</td>\n",
              "      <td>7000000</td>\n",
              "      <td>15000000</td>\n",
              "      <td>-8000000</td>\n",
              "      <td>-10000000</td>\n",
              "      <td>❌ Alto</td>\n",
              "    </tr>\n",
              "    <tr>\n",
              "      <th>2</th>\n",
              "      <td>31-90d</td>\n",
              "      <td>10000000</td>\n",
              "      <td>8000000</td>\n",
              "      <td>2000000</td>\n",
              "      <td>-8000000</td>\n",
              "      <td>⚠️ Medio</td>\n",
              "    </tr>\n",
              "    <tr>\n",
              "      <th>3</th>\n",
              "      <td>91-180d</td>\n",
              "      <td>5000000</td>\n",
              "      <td>4000000</td>\n",
              "      <td>1000000</td>\n",
              "      <td>-7000000</td>\n",
              "      <td>⚠️ Medio</td>\n",
              "    </tr>\n",
              "    <tr>\n",
              "      <th>4</th>\n",
              "      <td>181-365d</td>\n",
              "      <td>3000000</td>\n",
              "      <td>2000000</td>\n",
              "      <td>1000000</td>\n",
              "      <td>-6000000</td>\n",
              "      <td>⚠️ Medio</td>\n",
              "    </tr>\n",
              "  </tbody>\n",
              "</table>\n",
              "</div>\n",
              "    <div class=\"colab-df-buttons\">\n",
              "\n",
              "  <div class=\"colab-df-container\">\n",
              "    <button class=\"colab-df-convert\" onclick=\"convertToInteractive('df-94f0d4d0-fbd5-4262-86d1-8f32317574e4')\"\n",
              "            title=\"Convert this dataframe to an interactive table.\"\n",
              "            style=\"display:none;\">\n",
              "\n",
              "  <svg xmlns=\"http://www.w3.org/2000/svg\" height=\"24px\" viewBox=\"0 -960 960 960\">\n",
              "    <path d=\"M120-120v-720h720v720H120Zm60-500h600v-160H180v160Zm220 220h160v-160H400v160Zm0 220h160v-160H400v160ZM180-400h160v-160H180v160Zm440 0h160v-160H620v160ZM180-180h160v-160H180v160Zm440 0h160v-160H620v160Z\"/>\n",
              "  </svg>\n",
              "    </button>\n",
              "\n",
              "  <style>\n",
              "    .colab-df-container {\n",
              "      display:flex;\n",
              "      gap: 12px;\n",
              "    }\n",
              "\n",
              "    .colab-df-convert {\n",
              "      background-color: #E8F0FE;\n",
              "      border: none;\n",
              "      border-radius: 50%;\n",
              "      cursor: pointer;\n",
              "      display: none;\n",
              "      fill: #1967D2;\n",
              "      height: 32px;\n",
              "      padding: 0 0 0 0;\n",
              "      width: 32px;\n",
              "    }\n",
              "\n",
              "    .colab-df-convert:hover {\n",
              "      background-color: #E2EBFA;\n",
              "      box-shadow: 0px 1px 2px rgba(60, 64, 67, 0.3), 0px 1px 3px 1px rgba(60, 64, 67, 0.15);\n",
              "      fill: #174EA6;\n",
              "    }\n",
              "\n",
              "    .colab-df-buttons div {\n",
              "      margin-bottom: 4px;\n",
              "    }\n",
              "\n",
              "    [theme=dark] .colab-df-convert {\n",
              "      background-color: #3B4455;\n",
              "      fill: #D2E3FC;\n",
              "    }\n",
              "\n",
              "    [theme=dark] .colab-df-convert:hover {\n",
              "      background-color: #434B5C;\n",
              "      box-shadow: 0px 1px 3px 1px rgba(0, 0, 0, 0.15);\n",
              "      filter: drop-shadow(0px 1px 2px rgba(0, 0, 0, 0.3));\n",
              "      fill: #FFFFFF;\n",
              "    }\n",
              "  </style>\n",
              "\n",
              "    <script>\n",
              "      const buttonEl =\n",
              "        document.querySelector('#df-94f0d4d0-fbd5-4262-86d1-8f32317574e4 button.colab-df-convert');\n",
              "      buttonEl.style.display =\n",
              "        google.colab.kernel.accessAllowed ? 'block' : 'none';\n",
              "\n",
              "      async function convertToInteractive(key) {\n",
              "        const element = document.querySelector('#df-94f0d4d0-fbd5-4262-86d1-8f32317574e4');\n",
              "        const dataTable =\n",
              "          await google.colab.kernel.invokeFunction('convertToInteractive',\n",
              "                                                    [key], {});\n",
              "        if (!dataTable) return;\n",
              "\n",
              "        const docLinkHtml = 'Like what you see? Visit the ' +\n",
              "          '<a target=\"_blank\" href=https://colab.research.google.com/notebooks/data_table.ipynb>data table notebook</a>'\n",
              "          + ' to learn more about interactive tables.';\n",
              "        element.innerHTML = '';\n",
              "        dataTable['output_type'] = 'display_data';\n",
              "        await google.colab.output.renderOutput(dataTable, element);\n",
              "        const docLink = document.createElement('div');\n",
              "        docLink.innerHTML = docLinkHtml;\n",
              "        element.appendChild(docLink);\n",
              "      }\n",
              "    </script>\n",
              "  </div>\n",
              "\n",
              "\n",
              "    <div id=\"df-82fd7d8a-ccb2-41a2-a9a5-9124652167d7\">\n",
              "      <button class=\"colab-df-quickchart\" onclick=\"quickchart('df-82fd7d8a-ccb2-41a2-a9a5-9124652167d7')\"\n",
              "                title=\"Suggest charts\"\n",
              "                style=\"display:none;\">\n",
              "\n",
              "<svg xmlns=\"http://www.w3.org/2000/svg\" height=\"24px\"viewBox=\"0 0 24 24\"\n",
              "     width=\"24px\">\n",
              "    <g>\n",
              "        <path d=\"M19 3H5c-1.1 0-2 .9-2 2v14c0 1.1.9 2 2 2h14c1.1 0 2-.9 2-2V5c0-1.1-.9-2-2-2zM9 17H7v-7h2v7zm4 0h-2V7h2v10zm4 0h-2v-4h2v4z\"/>\n",
              "    </g>\n",
              "</svg>\n",
              "      </button>\n",
              "\n",
              "<style>\n",
              "  .colab-df-quickchart {\n",
              "      --bg-color: #E8F0FE;\n",
              "      --fill-color: #1967D2;\n",
              "      --hover-bg-color: #E2EBFA;\n",
              "      --hover-fill-color: #174EA6;\n",
              "      --disabled-fill-color: #AAA;\n",
              "      --disabled-bg-color: #DDD;\n",
              "  }\n",
              "\n",
              "  [theme=dark] .colab-df-quickchart {\n",
              "      --bg-color: #3B4455;\n",
              "      --fill-color: #D2E3FC;\n",
              "      --hover-bg-color: #434B5C;\n",
              "      --hover-fill-color: #FFFFFF;\n",
              "      --disabled-bg-color: #3B4455;\n",
              "      --disabled-fill-color: #666;\n",
              "  }\n",
              "\n",
              "  .colab-df-quickchart {\n",
              "    background-color: var(--bg-color);\n",
              "    border: none;\n",
              "    border-radius: 50%;\n",
              "    cursor: pointer;\n",
              "    display: none;\n",
              "    fill: var(--fill-color);\n",
              "    height: 32px;\n",
              "    padding: 0;\n",
              "    width: 32px;\n",
              "  }\n",
              "\n",
              "  .colab-df-quickchart:hover {\n",
              "    background-color: var(--hover-bg-color);\n",
              "    box-shadow: 0 1px 2px rgba(60, 64, 67, 0.3), 0 1px 3px 1px rgba(60, 64, 67, 0.15);\n",
              "    fill: var(--button-hover-fill-color);\n",
              "  }\n",
              "\n",
              "  .colab-df-quickchart-complete:disabled,\n",
              "  .colab-df-quickchart-complete:disabled:hover {\n",
              "    background-color: var(--disabled-bg-color);\n",
              "    fill: var(--disabled-fill-color);\n",
              "    box-shadow: none;\n",
              "  }\n",
              "\n",
              "  .colab-df-spinner {\n",
              "    border: 2px solid var(--fill-color);\n",
              "    border-color: transparent;\n",
              "    border-bottom-color: var(--fill-color);\n",
              "    animation:\n",
              "      spin 1s steps(1) infinite;\n",
              "  }\n",
              "\n",
              "  @keyframes spin {\n",
              "    0% {\n",
              "      border-color: transparent;\n",
              "      border-bottom-color: var(--fill-color);\n",
              "      border-left-color: var(--fill-color);\n",
              "    }\n",
              "    20% {\n",
              "      border-color: transparent;\n",
              "      border-left-color: var(--fill-color);\n",
              "      border-top-color: var(--fill-color);\n",
              "    }\n",
              "    30% {\n",
              "      border-color: transparent;\n",
              "      border-left-color: var(--fill-color);\n",
              "      border-top-color: var(--fill-color);\n",
              "      border-right-color: var(--fill-color);\n",
              "    }\n",
              "    40% {\n",
              "      border-color: transparent;\n",
              "      border-right-color: var(--fill-color);\n",
              "      border-top-color: var(--fill-color);\n",
              "    }\n",
              "    60% {\n",
              "      border-color: transparent;\n",
              "      border-right-color: var(--fill-color);\n",
              "    }\n",
              "    80% {\n",
              "      border-color: transparent;\n",
              "      border-right-color: var(--fill-color);\n",
              "      border-bottom-color: var(--fill-color);\n",
              "    }\n",
              "    90% {\n",
              "      border-color: transparent;\n",
              "      border-bottom-color: var(--fill-color);\n",
              "    }\n",
              "  }\n",
              "</style>\n",
              "\n",
              "      <script>\n",
              "        async function quickchart(key) {\n",
              "          const quickchartButtonEl =\n",
              "            document.querySelector('#' + key + ' button');\n",
              "          quickchartButtonEl.disabled = true;  // To prevent multiple clicks.\n",
              "          quickchartButtonEl.classList.add('colab-df-spinner');\n",
              "          try {\n",
              "            const charts = await google.colab.kernel.invokeFunction(\n",
              "                'suggestCharts', [key], {});\n",
              "          } catch (error) {\n",
              "            console.error('Error during call to suggestCharts:', error);\n",
              "          }\n",
              "          quickchartButtonEl.classList.remove('colab-df-spinner');\n",
              "          quickchartButtonEl.classList.add('colab-df-quickchart-complete');\n",
              "        }\n",
              "        (() => {\n",
              "          let quickchartButtonEl =\n",
              "            document.querySelector('#df-82fd7d8a-ccb2-41a2-a9a5-9124652167d7 button');\n",
              "          quickchartButtonEl.style.display =\n",
              "            google.colab.kernel.accessAllowed ? 'block' : 'none';\n",
              "        })();\n",
              "      </script>\n",
              "    </div>\n",
              "\n",
              "  <div id=\"id_ddd34f46-acfb-4197-ada0-20f956015526\">\n",
              "    <style>\n",
              "      .colab-df-generate {\n",
              "        background-color: #E8F0FE;\n",
              "        border: none;\n",
              "        border-radius: 50%;\n",
              "        cursor: pointer;\n",
              "        display: none;\n",
              "        fill: #1967D2;\n",
              "        height: 32px;\n",
              "        padding: 0 0 0 0;\n",
              "        width: 32px;\n",
              "      }\n",
              "\n",
              "      .colab-df-generate:hover {\n",
              "        background-color: #E2EBFA;\n",
              "        box-shadow: 0px 1px 2px rgba(60, 64, 67, 0.3), 0px 1px 3px 1px rgba(60, 64, 67, 0.15);\n",
              "        fill: #174EA6;\n",
              "      }\n",
              "\n",
              "      [theme=dark] .colab-df-generate {\n",
              "        background-color: #3B4455;\n",
              "        fill: #D2E3FC;\n",
              "      }\n",
              "\n",
              "      [theme=dark] .colab-df-generate:hover {\n",
              "        background-color: #434B5C;\n",
              "        box-shadow: 0px 1px 3px 1px rgba(0, 0, 0, 0.15);\n",
              "        filter: drop-shadow(0px 1px 2px rgba(0, 0, 0, 0.3));\n",
              "        fill: #FFFFFF;\n",
              "      }\n",
              "    </style>\n",
              "    <button class=\"colab-df-generate\" onclick=\"generateWithVariable('gap_df')\"\n",
              "            title=\"Generate code using this dataframe.\"\n",
              "            style=\"display:none;\">\n",
              "\n",
              "  <svg xmlns=\"http://www.w3.org/2000/svg\" height=\"24px\"viewBox=\"0 0 24 24\"\n",
              "       width=\"24px\">\n",
              "    <path d=\"M7,19H8.4L18.45,9,17,7.55,7,17.6ZM5,21V16.75L18.45,3.32a2,2,0,0,1,2.83,0l1.4,1.43a1.91,1.91,0,0,1,.58,1.4,1.91,1.91,0,0,1-.58,1.4L9.25,21ZM18.45,9,17,7.55Zm-12,3A5.31,5.31,0,0,0,4.9,8.1,5.31,5.31,0,0,0,1,6.5,5.31,5.31,0,0,0,4.9,4.9,5.31,5.31,0,0,0,6.5,1,5.31,5.31,0,0,0,8.1,4.9,5.31,5.31,0,0,0,12,6.5,5.46,5.46,0,0,0,6.5,12Z\"/>\n",
              "  </svg>\n",
              "    </button>\n",
              "    <script>\n",
              "      (() => {\n",
              "      const buttonEl =\n",
              "        document.querySelector('#id_ddd34f46-acfb-4197-ada0-20f956015526 button.colab-df-generate');\n",
              "      buttonEl.style.display =\n",
              "        google.colab.kernel.accessAllowed ? 'block' : 'none';\n",
              "\n",
              "      buttonEl.onclick = () => {\n",
              "        google.colab.notebook.generateWithVariable('gap_df');\n",
              "      }\n",
              "      })();\n",
              "    </script>\n",
              "  </div>\n",
              "\n",
              "    </div>\n",
              "  </div>\n"
            ],
            "application/vnd.google.colaboratory.intrinsic+json": {
              "type": "dataframe",
              "variable_name": "gap_df",
              "summary": "{\n  \"name\": \"gap_df\",\n  \"rows\": 5,\n  \"fields\": [\n    {\n      \"column\": \"tramo\",\n      \"properties\": {\n        \"dtype\": \"string\",\n        \"num_unique_values\": 5,\n        \"samples\": [\n          \"8-30d\",\n          \"181-365d\",\n          \"31-90d\"\n        ],\n        \"semantic_type\": \"\",\n        \"description\": \"\"\n      }\n    },\n    {\n      \"column\": \"entradas\",\n      \"properties\": {\n        \"dtype\": \"number\",\n        \"std\": 2701851,\n        \"min\": 3000000,\n        \"max\": 10000000,\n        \"num_unique_values\": 5,\n        \"samples\": [\n          7000000,\n          3000000,\n          10000000\n        ],\n        \"semantic_type\": \"\",\n        \"description\": \"\"\n      }\n    },\n    {\n      \"column\": \"salidas\",\n      \"properties\": {\n        \"dtype\": \"number\",\n        \"std\": 5118593,\n        \"min\": 2000000,\n        \"max\": 15000000,\n        \"num_unique_values\": 5,\n        \"samples\": [\n          15000000,\n          2000000,\n          8000000\n        ],\n        \"semantic_type\": \"\",\n        \"description\": \"\"\n      }\n    },\n    {\n      \"column\": \"gap_neto\",\n      \"properties\": {\n        \"dtype\": \"number\",\n        \"std\": 4086563,\n        \"min\": -8000000,\n        \"max\": 2000000,\n        \"num_unique_values\": 4,\n        \"samples\": [\n          -8000000,\n          1000000,\n          -2000000\n        ],\n        \"semantic_type\": \"\",\n        \"description\": \"\"\n      }\n    },\n    {\n      \"column\": \"gap_acumulado\",\n      \"properties\": {\n        \"dtype\": \"number\",\n        \"std\": 2966479,\n        \"min\": -10000000,\n        \"max\": -2000000,\n        \"num_unique_values\": 5,\n        \"samples\": [\n          -10000000,\n          -6000000,\n          -8000000\n        ],\n        \"semantic_type\": \"\",\n        \"description\": \"\"\n      }\n    },\n    {\n      \"column\": \"Riesgo\",\n      \"properties\": {\n        \"dtype\": \"category\",\n        \"num_unique_values\": 2,\n        \"samples\": [\n          \"\\u26a0\\ufe0f Medio\",\n          \"\\u274c Alto\"\n        ],\n        \"semantic_type\": \"\",\n        \"description\": \"\"\n      }\n    }\n  ]\n}"
            }
          },
          "metadata": {},
          "execution_count": 102
        }
      ]
    },
    {
      "cell_type": "markdown",
      "source": [
        "# **Tablas de activos y pasivos**"
      ],
      "metadata": {
        "id": "qNQPPVyAgZcc"
      }
    },
    {
      "cell_type": "markdown",
      "source": [
        "Entender bien que son los activos y pasivos es fundamental en cualquier análisis financiero, especialmente en gestión de riesgo de liquidez. Veamos de que tratan estos conceptos:\n",
        "\n",
        "* `Activos`: Representan todo lo que posee una entidad, que puede generar beneficios futuros. Son recursos económicos que tienen valor y que pueden convertirse en efectivo, generar ingresos o ser utilizados para operar el negocio. En un banco, los activos incluyen los préstamos otorgados, inversiones en bonos, efectivo, derivados, etc.\n",
        "\n",
        "* `Pasivos`: Representan todo lo que debe una entidad. Son obligaciones financieras presentes que requieren una salida futura de recursos. En un banco, los pasivos incluyen los depósitos de clientes, deuda emitida, préstamos interbancarios, etc.\n",
        "\n",
        "Estos conceptos tienen alta relación con la siguiente métrica que veremos. Procedamos a construir las tablas de activos y pasivos para su próxima utilización:"
      ],
      "metadata": {
        "id": "gViyz3JBr5z8"
      }
    },
    {
      "cell_type": "code",
      "source": [
        "pasivos = [\n",
        "    {\"nombre\": \"Depósitos Minoristas Estables\", \"monto\": 40000000, \"factor_asf\": 0.95},\n",
        "    {\"nombre\": \"Depósitos Minoristas No Estables\", \"monto\": 30000000, \"factor_asf\": 0.90},\n",
        "    {\"nombre\": \"Deuda a Largo Plazo\", \"monto\": 20000000, \"factor_asf\": 1.00},\n",
        "]\n",
        "\n",
        "activos = [\n",
        "    {\"nombre\": \"Préstamos a Empresas <1a\", \"monto\": 25000000, \"factor_rsf\": 0.85},\n",
        "    {\"nombre\": \"Bonos a 2 años\", \"monto\": 20000000, \"factor_rsf\": 0.85},\n",
        "    {\"nombre\": \"Derivados\", \"monto\": 10000000, \"factor_rsf\": 1.00},\n",
        "]"
      ],
      "metadata": {
        "id": "I0rafsmPxLxz"
      },
      "execution_count": 27,
      "outputs": []
    },
    {
      "cell_type": "markdown",
      "source": [
        "# **NSFR (Net Stable Funding Ratio)**"
      ],
      "metadata": {
        "id": "RYEkhelfxsUK"
      }
    },
    {
      "cell_type": "markdown",
      "source": [
        "El `NSFR` es una métrica estructural de liquidez que busca asegurar que el banco no dependa excesivamente de financiamiento volátil para sostener activos que duran a largo plazo.\n",
        "\n",
        "$$\n",
        "  NSFR = \\frac{Fondos\\ Estables\\ Disponibles\\ (ASF)}{Requerimiento\\ de\\ Fondos\\ Estables\\ (RSF)}*100\n",
        "$$\n",
        "\n",
        "El `ASF` se define como la cantidad de fondeo estable y confiable, ponderado por su grado de estabilidad.\n",
        "\n",
        "El `RSF` mide cuantos fondos estables necesita el banco, según el tipo de activos que posee.\n",
        "\n",
        "La relación entre los activos y pasivos con el NSFR es directa y estructural, debido a que evalúa el equilibrio entre los pasivos estables y los activos que consumen liquidez.\n",
        "\n",
        "Como podemos ver en las tablas, tanto los pasivos como los activos poseen un factor. Veamos a que se refiere este factor:\n",
        "\n",
        "* Cada pasivo tiene un **factor ASF** según su **estabilidad**.\n",
        "\n",
        "* Cada activo tiene un **factor RSF** según su **liquidez** y **plazo**.\n",
        "\n",
        "Por lo tanto, tanto el ASF como el RSF se calculan como la suma ponderada de los activos y pasivos por sus factores, respectivamente.\n",
        "\n",
        "Según la CMF, se está buscando llegar a un requerimiento de 100% como mínimo para la NSFR a contar de Enero del 2026. Hoy en día se está requeriendo 90% ya que desde 2022, se fue aumentando en un 10% (partió en 60%).\n",
        "\n",
        "Pasemos a ver el cálculo del NSFR:"
      ],
      "metadata": {
        "id": "IeugtfQax0vS"
      }
    },
    {
      "cell_type": "code",
      "source": [
        "# Pasemos las tablas a dataframe para utilizarlas\n",
        "\n",
        "asf_df = pd.DataFrame(pasivos)\n",
        "rsf_df = pd.DataFrame(activos)\n",
        "\n",
        "# Agreguemos al dataset los calculos de ASF y RSF por fila\n",
        "\n",
        "asf_df[\"asf\"] = asf_df[\"monto\"] * asf_df[\"factor_asf\"]\n",
        "rsf_df[\"rsf\"] = rsf_df[\"monto\"] * rsf_df[\"factor_rsf\"]\n",
        "\n",
        "# Calculemos el ASF total y el RSF total\n",
        "\n",
        "total_asf = asf_df[\"asf\"].sum()\n",
        "total_rsf = rsf_df[\"rsf\"].sum()\n",
        "\n",
        "# NSFR\n",
        "\n",
        "nsfr = total_asf / total_rsf * 100\n",
        "\n",
        "print(\"NSFR: {:.2f}% {}\".format(nsfr, \"✅ Cumple (CMF)\" if nsfr >= 100 else \"❌ Incumple (CMF)\"))"
      ],
      "metadata": {
        "colab": {
          "base_uri": "https://localhost:8080/"
        },
        "id": "SYyOGK3c1QRD",
        "outputId": "ff42bffa-8be1-4103-fa27-9d6479b1ec5b"
      },
      "execution_count": 29,
      "outputs": [
        {
          "output_type": "stream",
          "name": "stdout",
          "text": [
            "NSFR: 176.17% ✅ Cumple (CMF)\n"
          ]
        }
      ]
    },
    {
      "cell_type": "markdown",
      "source": [
        "# **Resumen**"
      ],
      "metadata": {
        "id": "lyCNGJIZ2OYi"
      }
    },
    {
      "cell_type": "markdown",
      "source": [
        "Por último, veamos un resumen de todos los cálculos que realizamos."
      ],
      "metadata": {
        "id": "olaoCftq2RIl"
      }
    },
    {
      "cell_type": "code",
      "source": [
        "print(\"===== HQLA Neto por Activo =====\")\n",
        "print(hqla_df[[\"nombre\", \"nivel\", \"monto\", \"haircut\", \"monto_neto\"]])\n",
        "print(\"\\nTotal HQLA Neto: ${:,.0f}\".format(stock_hqla))\n",
        "print(\"Salidas netas ajustadas: ${:,.0f}\".format(salidas_netas))\n",
        "print(\"🔍 LCR: {:.2f}% {}\".format(lcr, \"✅ Cumple\" if lcr >= 100 else \"❌ Incumple\"))\n",
        "print('================================')\n",
        "\n",
        "print(\"\\n===== GAP de Liquidez por Tramos =====\")\n",
        "print(gap_df)\n",
        "if any(gap_df[\"gap_acumulado\"] < 0):\n",
        "    print(\"⚠️ Alerta: Existe un tramo con GAP acumulado negativo. Riesgo de iliquidez.\")\n",
        "else:\n",
        "    print(\"✅ Todos los tramos mantienen GAP acumulado positivo.\")\n",
        "print('========================================')\n",
        "\n",
        "print(\"\\n===== NSFR: Funding Estable =====\")\n",
        "print(\"\\n-- ASF --\")\n",
        "print(asf_df[[\"nombre\", \"monto\", \"factor_asf\", \"asf\"]])\n",
        "\n",
        "print(\"\\n-- RSF --\")\n",
        "print(rsf_df[[\"nombre\", \"monto\", \"factor_rsf\", \"rsf\"]])\n",
        "\n",
        "print(\"\\nTotal ASF: ${:,.0f}\".format(total_asf))\n",
        "print(\"Total RSF: ${:,.0f}\".format(total_rsf))\n",
        "print(\"🔍 NSFR: {:.2f}% {}\".format(nsfr, \"✅ Cumple\" if nsfr >= 100 else \"❌ Incumple\"))\n"
      ],
      "metadata": {
        "colab": {
          "base_uri": "https://localhost:8080/"
        },
        "id": "2s5hluPD1mgN",
        "outputId": "a7e26a9d-cc97-4f47-b2a8-4901b9fb130b"
      },
      "execution_count": 33,
      "outputs": [
        {
          "output_type": "stream",
          "name": "stdout",
          "text": [
            "===== HQLA Neto por Activo =====\n",
            "                      nombre nivel     monto  haircut  monto_neto\n",
            "0  Efectivo en Banco Central     1  30000000     0.00  30000000.0\n",
            "1       Bonos del Estado CLP     1  20000000     0.00  20000000.0\n",
            "2     Bonos Corporativos AAA    2A  10000000     0.15   8500000.0\n",
            "3              Acciones IPSA    2B   5000000     0.50   2500000.0\n",
            "\n",
            "Total HQLA Neto: $61,000,000\n",
            "Salidas netas ajustadas: $35,000,000\n",
            "🔍 LCR: 174.29% ✅ Cumple\n",
            "================================\n",
            "\n",
            "===== GAP de Liquidez por Tramos =====\n",
            "      tramo  entradas   salidas  gap_neto  gap_acumulado    Riesgo\n",
            "0      0-7d   8000000  10000000  -2000000       -2000000    ❌ Alto\n",
            "1     8-30d   7000000  15000000  -8000000      -10000000    ❌ Alto\n",
            "2    31-90d  10000000   8000000   2000000       -8000000  ⚠️ Medio\n",
            "3   91-180d   5000000   4000000   1000000       -7000000  ⚠️ Medio\n",
            "4  181-365d   3000000   2000000   1000000       -6000000  ⚠️ Medio\n",
            "⚠️ Alerta: Existe un tramo con GAP acumulado negativo. Riesgo de iliquidez.\n",
            "========================================\n",
            "\n",
            "===== NSFR: Funding Estable =====\n",
            "\n",
            "-- ASF --\n",
            "                             nombre     monto  factor_asf         asf\n",
            "0     Depósitos Minoristas Estables  40000000        0.95  38000000.0\n",
            "1  Depósitos Minoristas No Estables  30000000        0.90  27000000.0\n",
            "2               Deuda a Largo Plazo  20000000        1.00  20000000.0\n",
            "\n",
            "-- RSF --\n",
            "                     nombre     monto  factor_rsf         rsf\n",
            "0  Préstamos a Empresas <1a  25000000        0.85  21250000.0\n",
            "1            Bonos a 2 años  20000000        0.85  17000000.0\n",
            "2                 Derivados  10000000        1.00  10000000.0\n",
            "\n",
            "Total ASF: $85,000,000\n",
            "Total RSF: $48,250,000\n",
            "🔍 NSFR: 176.17% ✅ Cumple\n"
          ]
        }
      ]
    },
    {
      "cell_type": "markdown",
      "source": [
        "# **Escenarios de estrés y CFP**"
      ],
      "metadata": {
        "id": "vPwRp3wM5jKu"
      }
    },
    {
      "cell_type": "markdown",
      "source": [
        "## **Escenario de Estrés**"
      ],
      "metadata": {
        "id": "qcKawF5tLsRk"
      }
    },
    {
      "cell_type": "markdown",
      "source": [
        "Los escenarios de estrés son uno de los pilares más importantes en la gestión del riesgo de liquidez (y de los riesgos financieros en general), especialmente exigidos por Basilea III y por la CMF.\n",
        "\n",
        "Un `escenario de estrés` es una simulación o proyección que busca evaluar como se comportaría la situación financiera de una institución ante condiciones extremas pero plausibles, que pudieran generar tensiones en la liquidez o solvencia. En palabras más informales, es poner al banco en situaciones donde las cosas salen mal para ver su tolerancia y resistencia.\n",
        "\n",
        "El objetivo es evaluar si el banco tiene suficiente liquidez o capital para sobrevivir a situaciones adversas de corto o mediano plazo, sin caer en default, iliquidez o incumplir normativa.\n",
        "\n",
        "Entre los distintos escenarios tenemos los siguientes:\n",
        "\n",
        "* Pérdida masiva de depósitos\n",
        "* Downgrade crediticio\n",
        "* Caída del valor de los activos\n",
        "* Crisis macroeconómica\n",
        "* Incumplimiento de contraparte\n",
        "* Rumores o crisis de reputación\n",
        "\n",
        "Para construir estos escenarios se tiene que identificar los supuestos adversos (realistas), definir los impactos cuantitativos esperados, hacer un recálculo de las métricas claves bajo estas condiciones y diseñar respuestas (activar CFP si es necesario).\n",
        "\n",
        "La CMF exige que los bancos realicen pruebas de estrés internas periódicamente.\n",
        "\n",
        "Veamos dos escenarios de estrés y como afecta en las métricas que definian nuestra institución financiera anteriormente."
      ],
      "metadata": {
        "id": "8675VbYx7JWP"
      }
    },
    {
      "cell_type": "markdown",
      "source": [
        "Partamos copiando los dataset para no afectar en los resultados anteriores:\n"
      ],
      "metadata": {
        "id": "tjGkqGQF9UMY"
      }
    },
    {
      "cell_type": "code",
      "source": [
        "activos_hqla_base = activos_hqla.copy()\n",
        "pasivos_base = pasivos.copy()\n",
        "activos_base = activos.copy()\n",
        "salidas_esperadas_base = salidas_esperadas\n",
        "entradas_esperadas_base = entradas_esperadas\n",
        "entradas_base = entradas.copy()\n",
        "salidas_base = salidas.copy()"
      ],
      "metadata": {
        "id": "zAfSoVHj9W-c"
      },
      "execution_count": 58,
      "outputs": []
    },
    {
      "cell_type": "markdown",
      "source": [
        "En función de automatizar los procesos de cálculo, se crea una función que calculen las métricas para los distintos escenarios."
      ],
      "metadata": {
        "id": "li8PaWni9YpP"
      }
    },
    {
      "cell_type": "code",
      "source": [
        "# Función para el cálculo de las métricas HQLA, GAP y NSFR\n",
        "def calcular_metricas(activos_hqla,\n",
        "                      pasivos,\n",
        "                      activos,\n",
        "                      salidas_esperadas,\n",
        "                      entradas_esperadas,\n",
        "                      entradas_gaps,\n",
        "                      salidas_gaps):\n",
        "    # HQLA neto\n",
        "    hqla_df = pd.DataFrame(activos_hqla)\n",
        "    hqla_df[\"monto_neto\"] = hqla_df[\"monto\"] * (1 - hqla_df[\"haircut\"])\n",
        "    total_hqla_neto = hqla_df[\"monto_neto\"].sum()\n",
        "    limite_entradas = salidas_esperadas * 0.75\n",
        "    salidas_netas = salidas_esperadas - min(entradas_esperadas, limite_entradas)\n",
        "    lcr = total_hqla_neto / salidas_netas * 100\n",
        "\n",
        "    # GAP\n",
        "    gap_df = pd.DataFrame({\n",
        "        \"tramo\": tramos,\n",
        "        \"entradas\": entradas_gaps,\n",
        "        \"salidas\": salidas_gaps\n",
        "    })\n",
        "    gap_df[\"gap_neto\"] = gap_df[\"entradas\"] - gap_df[\"salidas\"]\n",
        "    gap_df[\"gap_acumulado\"] = gap_df[\"gap_neto\"].cumsum()\n",
        "\n",
        "    # NSFR\n",
        "    asf_df = pd.DataFrame(pasivos)\n",
        "    asf_df[\"asf\"] = asf_df[\"monto\"] * asf_df[\"factor_asf\"]\n",
        "    total_asf = asf_df[\"asf\"].sum()\n",
        "\n",
        "    rsf_df = pd.DataFrame(activos)\n",
        "    rsf_df[\"rsf\"] = rsf_df[\"monto\"] * rsf_df[\"factor_rsf\"]\n",
        "    total_rsf = rsf_df[\"rsf\"].sum()\n",
        "\n",
        "    nsfr = total_asf / total_rsf * 100\n",
        "\n",
        "    return {\n",
        "        \"lcr\": lcr,\n",
        "        \"gap_df\": gap_df,\n",
        "        \"nsfr\": nsfr,\n",
        "        \"hqla_df\": hqla_df,\n",
        "        \"asf_df\": asf_df,\n",
        "        \"rsf_df\": rsf_df,\n",
        "        \"total_hqla_neto\": total_hqla_neto,\n",
        "        \"salidas_netas\": salidas_netas,\n",
        "        \"total_asf\": total_asf,\n",
        "        \"total_rsf\": total_rsf\n",
        "    }"
      ],
      "metadata": {
        "id": "tqk99ObZ7DKQ"
      },
      "execution_count": 96,
      "outputs": []
    },
    {
      "cell_type": "markdown",
      "source": [
        "## **Escenario Base**"
      ],
      "metadata": {
        "id": "D8kZYN6MAf5I"
      }
    },
    {
      "cell_type": "markdown",
      "source": [
        "Partamos con el cálculo de las métricas del escenario base, sin ninguna modificación."
      ],
      "metadata": {
        "id": "0Q4UIvD49qoV"
      }
    },
    {
      "cell_type": "code",
      "source": [
        "metrics_base = calcular_metricas(activos_hqla_base,\n",
        "                                 pasivos_base,\n",
        "                                 activos_base,\n",
        "                                 salidas_esperadas_base,\n",
        "                                 entradas_esperadas_base,\n",
        "                                 entradas_base,\n",
        "                                 salidas_base)"
      ],
      "metadata": {
        "id": "TS9R1LrS9yf6"
      },
      "execution_count": 97,
      "outputs": []
    },
    {
      "cell_type": "markdown",
      "source": [
        "## **Escenario de estrés**"
      ],
      "metadata": {
        "id": "asxCEoxiAjOg"
      }
    },
    {
      "cell_type": "markdown",
      "source": [
        "Supondremos una fuga masiva, aumento de salidas inesperadas y disminución de entradas inesperadas.\n",
        "\n",
        "Para la fuga masiva de depósitos minoristas no estables supondremos una pérdida del 70% de los depósitos, para los estables una pérdida del 60% de los depósitos. Esto afectará en el cáculo del NSFR.\n",
        "\n",
        "Para el aumento de salidas inesperadas supondremos un 50% más de salidas inesperadas y además un 35% menos de entradas en todos los tramos. Esto afectará en el GAP de liquidez y el LCR.\n",
        "\n",
        "Hagamos la modificación de los datos y recalculemos las métricas:"
      ],
      "metadata": {
        "id": "oL7Qzs9PAmVn"
      }
    },
    {
      "cell_type": "code",
      "source": [
        "# Modificación datos NSFR\n",
        "pasivos_stress1 = [\n",
        "    {\"nombre\": \"Depósitos Minoristas Estables\", \"monto\": 40000000*0.4, \"factor_asf\": 0.95},\n",
        "    {\"nombre\": \"Depósitos Minoristas No Estables\", \"monto\": 30000000*0.3, \"factor_asf\": 0.90},\n",
        "    {\"nombre\": \"Deuda a Largo Plazo\", \"monto\": 20000000, \"factor_asf\": 1.00},\n",
        "]\n",
        "\n",
        "# Modificación datos LCR\n",
        "salidas_esperadas_stress1 = salidas_esperadas_base * 1.5\n",
        "entradas_esperadas_stress1 = entradas_esperadas_base * 0.65\n",
        "\n",
        "# Modificación datos GAP\n",
        "entradas_stress1 = [e * 0.65 for e in entradas_base]\n",
        "salidas_stress1 = [s * 1.4 for s in salidas_base]\n",
        "\n",
        "# Recálculo de las métricas\n",
        "metrics_stress1 = calcular_metricas(activos_hqla_base,\n",
        "                                    pasivos_stress1,\n",
        "                                    activos_base,\n",
        "                                    salidas_esperadas_stress1,\n",
        "                                    entradas_esperadas_stress1,\n",
        "                                    entradas_stress1,\n",
        "                                    salidas_stress1)"
      ],
      "metadata": {
        "id": "Ni1BpaFY-qDy"
      },
      "execution_count": 109,
      "outputs": []
    },
    {
      "cell_type": "markdown",
      "source": [
        "## **Plan de Contingencia de Liquidez (CFP)**"
      ],
      "metadata": {
        "id": "J3OjKzrwLKiE"
      }
    },
    {
      "cell_type": "markdown",
      "source": [
        "Ante las diferentes problemáticas se procede a realizar el `Plan de Contingencia de Liquidez (CFP)`. Este plan es un documento estratégico y operativo que describe que acciones tomará un banco si enfrenta una situación de estrés de liquidez, con el objetivo de seguir cumpliendo sus obligaciones sin colapsar.\n",
        "\n",
        "En este caso, las acciones a realizar sobre el escenario 1 serán una línea de crédito contigente de 10 millones y una venta rápida de activos que se liquidan en 5 millones para aumentar los HQLA.\n",
        "\n"
      ],
      "metadata": {
        "id": "DfOYS5kgFAoS"
      }
    },
    {
      "cell_type": "code",
      "source": [
        "linea_credito_contingente = 10000000\n",
        "venta_rapida_activos = 5000000\n",
        "\n",
        "# Ajustamos LCR y NSFR considerando uso CFP\n",
        "total_hqla_neto_cfp = metrics_stress1[\"total_hqla_neto\"] + venta_rapida_activos\n",
        "total_asf_cfp = metrics_stress1[\"total_asf\"] + linea_credito_contingente\n",
        "\n",
        "lcr_cfp = total_hqla_neto_cfp / metrics_stress1[\"salidas_netas\"] * 100\n",
        "nsfr_cfp = total_asf_cfp / metrics_stress1[\"total_rsf\"] * 100"
      ],
      "metadata": {
        "id": "_uhiWwH0_UBl"
      },
      "execution_count": 110,
      "outputs": []
    },
    {
      "cell_type": "markdown",
      "source": [
        "Ahora, en función de automatizar la entrega de los resultados y evitar la escritura repetiva de código se crea una función que generará los informes para cada escenario."
      ],
      "metadata": {
        "id": "ZFtKd1ujHppu"
      }
    },
    {
      "cell_type": "code",
      "source": [
        "# Función de entrega de resultados\n",
        "def mostrar_resultados(nombre, metrics, lcr_cfp_val=None, nsfr_cfp_val=None):\n",
        "    print(f\"\\n===== Resultados {nombre} =====\")\n",
        "    print(f\"LCR: {metrics['lcr']:.2f}% {'✅ Cumple' if metrics['lcr'] >= 100 else '❌ Incumple'}\")\n",
        "    print(f\"NSFR: {metrics['nsfr']:.2f}% {'✅ Cumple' if metrics['nsfr'] >= 100 else '❌ Incumple'}\")\n",
        "    if any(metrics[\"gap_df\"][\"gap_acumulado\"] < 0):\n",
        "        print(\"⚠️ Alerta: GAP acumulado negativo detectado. Riesgo de iliquidez.\")\n",
        "    else:\n",
        "        print(\"✅ GAP acumulado positivo en todos los tramos.\")\n",
        "    if lcr_cfp_val:\n",
        "        print(f\"Con CFP, LCR ajustado: {lcr_cfp_val:.2f}% {'✅ Cumple' if lcr_cfp_val >= 100 else '❌ Incumple'}\")\n",
        "    if nsfr_cfp_val:\n",
        "        print(f\"Con CFP, NSFR ajustado: {nsfr_cfp_val:.2f}% {'✅ Cumple' if nsfr_cfp_val >= 100 else '❌ Incumple'}\")"
      ],
      "metadata": {
        "id": "ziHcsCUP_WcX"
      },
      "execution_count": 108,
      "outputs": []
    },
    {
      "cell_type": "markdown",
      "source": [
        "Por último, visualicemos los resultados"
      ],
      "metadata": {
        "id": "16NhqlYlH9QR"
      }
    },
    {
      "cell_type": "code",
      "source": [
        "mostrar_resultados(\"Escenario Base\", metrics_base)\n",
        "mostrar_resultados(\"Escenario Estrés 1 (fuga depósitos)\", metrics_stress1, lcr_cfp, nsfr_cfp)"
      ],
      "metadata": {
        "colab": {
          "base_uri": "https://localhost:8080/"
        },
        "id": "_pfi2ifr_asF",
        "outputId": "131eff4b-2d54-4aff-b21f-b805e5265c4c"
      },
      "execution_count": 111,
      "outputs": [
        {
          "output_type": "stream",
          "name": "stdout",
          "text": [
            "\n",
            "===== Resultados Escenario Base =====\n",
            "LCR: 174.29% ✅ Cumple\n",
            "NSFR: 176.17% ✅ Cumple\n",
            "⚠️ Alerta: GAP acumulado negativo detectado. Riesgo de iliquidez.\n",
            "\n",
            "===== Resultados Escenario Estrés 1 (fuga depósitos) =====\n",
            "LCR: 93.49% ❌ Incumple\n",
            "NSFR: 89.74% ❌ Incumple\n",
            "⚠️ Alerta: GAP acumulado negativo detectado. Riesgo de iliquidez.\n",
            "Con CFP, LCR ajustado: 101.15% ✅ Cumple\n",
            "Con CFP, NSFR ajustado: 110.47% ✅ Cumple\n"
          ]
        }
      ]
    },
    {
      "cell_type": "markdown",
      "source": [
        "## **Visualización comparativa**"
      ],
      "metadata": {
        "id": "Z_JHM4udMFCU"
      }
    },
    {
      "cell_type": "markdown",
      "source": [
        "Realicemos un gráfico comparativo de los distintos escenarios. Las líneas trazadas representan el desarrollo desde el escenario base, la problemática planteada y el plan de contigencia aplicado."
      ],
      "metadata": {
        "id": "MHeksjLxMNQ_"
      }
    },
    {
      "cell_type": "code",
      "source": [
        "escenarios = [\"Base\", \"Estrés\", \"Estrés + CFP\"]\n",
        "lcr_vals = [metrics_base[\"lcr\"], metrics_stress1[\"lcr\"], lcr_cfp]\n",
        "nsfr_vals = [metrics_base[\"nsfr\"], metrics_stress1[\"nsfr\"], nsfr_cfp]\n",
        "\n",
        "plt.figure(figsize=(10,5))\n",
        "plt.plot(escenarios, lcr_vals, marker='o', label='LCR (%)')\n",
        "plt.plot(escenarios, nsfr_vals, marker='s', label='NSFR (%)')\n",
        "plt.axhline(100, color='r', linestyle='--', label='Umbral 100%')\n",
        "\n",
        "plt.title('Comparación LCR y NSFR en Escenarios')\n",
        "plt.ylabel('Ratio (%)')\n",
        "plt.legend()\n",
        "plt.grid(True)\n",
        "plt.show()"
      ],
      "metadata": {
        "colab": {
          "base_uri": "https://localhost:8080/",
          "height": 355
        },
        "id": "nvpwfNs8D5UI",
        "outputId": "d6995215-95c7-4a92-e197-2a01d3ec5b10"
      },
      "execution_count": 124,
      "outputs": [
        {
          "output_type": "display_data",
          "data": {
            "text/plain": [
              "<Figure size 1000x500 with 1 Axes>"
            ],
            "image/png": "[encoded data removed]"
          },
          "metadata": {}
        }
      ]
    }
  ]
}